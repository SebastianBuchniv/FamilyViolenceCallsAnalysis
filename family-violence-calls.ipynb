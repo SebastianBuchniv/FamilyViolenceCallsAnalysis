{
 "cells": [
  {
   "cell_type": "code",
   "execution_count": 1,
   "id": "b49b85cc",
   "metadata": {
    "_cell_guid": "b1076dfc-b9ad-4769-8c92-a6c4dae69d19",
    "_uuid": "8f2839f25d086af736a60e9eeb907d3b93b6e0e5",
    "execution": {
     "iopub.execute_input": "2021-10-20T19:57:57.452846Z",
     "iopub.status.busy": "2021-10-20T19:57:57.451761Z",
     "iopub.status.idle": "2021-10-20T19:57:58.521457Z",
     "shell.execute_reply": "2021-10-20T19:57:58.520497Z",
     "shell.execute_reply.started": "2021-10-20T18:48:26.252708Z"
    },
    "papermill": {
     "duration": 1.089891,
     "end_time": "2021-10-20T19:57:58.521711",
     "exception": false,
     "start_time": "2021-10-20T19:57:57.431820",
     "status": "completed"
    },
    "tags": []
   },
   "outputs": [
    {
     "name": "stdout",
     "output_type": "stream",
     "text": [
      "/kaggle/input/familyviolencecalls2017-2021/ViolenciaFamiliar.csv\n"
     ]
    }
   ],
   "source": [
    "# In this notebook, i will analyze data about a telephone line \n",
    "# that recieves calls about domestic violence. In the Dataset, i have some information\n",
    "# about the victims and the aggressor: Victim's Age, gender, relationship with the agressor,\n",
    "# and agressors' gender. I will try to predict the gender of the victim, using 4 years of data.\n",
    "# It's a personal excercise about using classification algorytms.\n",
    "\n",
    "import numpy as np # linear algebra\n",
    "import pandas as pd # data processing, CSV file I/O (e.g. pd.read_csv)\n",
    "import csv\n",
    "import io\n",
    "import matplotlib.pyplot as plt\n",
    "import sklearn\n",
    "import seaborn as sns\n",
    "from sklearn.preprocessing import StandardScaler\n",
    "from sklearn.model_selection import train_test_split\n",
    "from sklearn.model_selection import GridSearchCV\n",
    "# Input data files are available in the read-only \"../input/\" directory\n",
    "# For example, running this (by clicking run or pressing Shift+Enter) will list all files under the input directory\n",
    "\n",
    "import os\n",
    "for dirname, _, filenames in os.walk('/kaggle/input'):\n",
    "    for filename in filenames:\n",
    "        print(os.path.join(dirname, filename))\n",
    "\n",
    "# You can write up to 20GB to the current directory (/kaggle/working/) that gets preserved as output when you create a version using \"Save & Run All\" \n",
    "# You can also write temporary files to /kaggle/temp/, but they won't be saved outside of the current session"
   ]
  },
  {
   "cell_type": "code",
   "execution_count": 2,
   "id": "6801ec75",
   "metadata": {
    "execution": {
     "iopub.execute_input": "2021-10-20T19:57:58.557871Z",
     "iopub.status.busy": "2021-10-20T19:57:58.556886Z",
     "iopub.status.idle": "2021-10-20T19:57:58.849734Z",
     "shell.execute_reply": "2021-10-20T19:57:58.849193Z",
     "shell.execute_reply.started": "2021-10-20T18:48:27.379315Z"
    },
    "papermill": {
     "duration": 0.311829,
     "end_time": "2021-10-20T19:57:58.849890",
     "exception": false,
     "start_time": "2021-10-20T19:57:58.538061",
     "status": "completed"
    },
    "tags": []
   },
   "outputs": [],
   "source": [
    "#This dataset is in Spanish. I Will make some replacements, to avoid misstypes, and problems\n",
    "#with other enviroments. I will output a file with all the replacements made.\n",
    "\n",
    "\n",
    "Input = \"../input/familyviolencecalls2017-2021/ViolenciaFamiliar.csv\";\n",
    "Output = \"/kaggle/working/ViolenciaFamiliarReady.csv\";\n",
    "\n",
    "with io.open(Input,'r',encoding='UTF-8') as f:\n",
    "\ttext = f.read()\n",
    "\ttext = text.replace(\"á\",\"a\").replace(\"é\",\"e\").replace(\"í\",\"i\").replace(\"ó\",\"o\").replace(\"ú\",\"u\").replace(\"ñ\",\"n\")\n",
    "\ttext = text.replace(\"Á\",\"a\").replace(\"É\",\"e\").replace(\"Í\",\"i\").replace(\"Ó\",\"o\").replace(\"Ú\",\"u\").replace(\"Ñ\",\"n\")\n",
    "\ttext = text.replace(\"Sin dato\",\"\")\n",
    "\n",
    "with io.open(Output,'w',encoding='utf8') as f:\n",
    "    f.write(text)"
   ]
  },
  {
   "cell_type": "code",
   "execution_count": 3,
   "id": "5e3ae62a",
   "metadata": {
    "execution": {
     "iopub.execute_input": "2021-10-20T19:57:58.888750Z",
     "iopub.status.busy": "2021-10-20T19:57:58.887607Z",
     "iopub.status.idle": "2021-10-20T19:57:59.053033Z",
     "shell.execute_reply": "2021-10-20T19:57:59.053497Z",
     "shell.execute_reply.started": "2021-10-20T18:48:27.748693Z"
    },
    "papermill": {
     "duration": 0.187388,
     "end_time": "2021-10-20T19:57:59.053666",
     "exception": false,
     "start_time": "2021-10-20T19:57:58.866278",
     "status": "completed"
    },
    "tags": []
   },
   "outputs": [
    {
     "data": {
      "text/html": [
       "<div>\n",
       "<style scoped>\n",
       "    .dataframe tbody tr th:only-of-type {\n",
       "        vertical-align: middle;\n",
       "    }\n",
       "\n",
       "    .dataframe tbody tr th {\n",
       "        vertical-align: top;\n",
       "    }\n",
       "\n",
       "    .dataframe thead th {\n",
       "        text-align: right;\n",
       "    }\n",
       "</style>\n",
       "<table border=\"1\" class=\"dataframe\">\n",
       "  <thead>\n",
       "    <tr style=\"text-align: right;\">\n",
       "      <th></th>\n",
       "      <th>caso_id</th>\n",
       "      <th>llamante_descripcion</th>\n",
       "      <th>llamante_genero</th>\n",
       "      <th>llamante_vinculo_ninios_presentes</th>\n",
       "      <th>violencia_tipo</th>\n",
       "      <th>victima_edad</th>\n",
       "      <th>victima_rango_etario</th>\n",
       "      <th>victima_genero</th>\n",
       "      <th>victima_cantidad</th>\n",
       "      <th>agresor_cantidad</th>\n",
       "      <th>agresor_genero</th>\n",
       "      <th>agresor_relacion_victima</th>\n",
       "      <th>llamado_derivacion</th>\n",
       "      <th>llamado_fecha</th>\n",
       "      <th>llamado_hora</th>\n",
       "      <th>llamado_atencion_provincia</th>\n",
       "      <th>llamado_atencion_provincia_id</th>\n",
       "    </tr>\n",
       "  </thead>\n",
       "  <tbody>\n",
       "    <tr>\n",
       "      <th>0</th>\n",
       "      <td>344552.0</td>\n",
       "      <td>Comisaria</td>\n",
       "      <td>Masculino</td>\n",
       "      <td>Otra/o no familiar</td>\n",
       "      <td>Fisica y psicologica</td>\n",
       "      <td>27</td>\n",
       "      <td>18 a 29 anos</td>\n",
       "      <td>Femenino</td>\n",
       "      <td>3</td>\n",
       "      <td>1</td>\n",
       "      <td>Masculino</td>\n",
       "      <td>Pareja</td>\n",
       "      <td>La victima no acepto la intervencion del Equip...</td>\n",
       "      <td>2017-01-01</td>\n",
       "      <td>01:37</td>\n",
       "      <td>Ciudad Autonoma de Buenos Aires</td>\n",
       "      <td>2</td>\n",
       "    </tr>\n",
       "    <tr>\n",
       "      <th>1</th>\n",
       "      <td>344553.0</td>\n",
       "      <td>Comisaria</td>\n",
       "      <td>Femenino</td>\n",
       "      <td>s</td>\n",
       "      <td>Fisica y psicologica</td>\n",
       "      <td>NaN</td>\n",
       "      <td>NaN</td>\n",
       "      <td>Femenino</td>\n",
       "      <td>2</td>\n",
       "      <td>1</td>\n",
       "      <td>Masculino</td>\n",
       "      <td>Hermano/a</td>\n",
       "      <td>Llamante solicito informacion y/o orientacion</td>\n",
       "      <td>2017-01-01</td>\n",
       "      <td>06:42</td>\n",
       "      <td>Ciudad Autonoma de Buenos Aires</td>\n",
       "      <td>2</td>\n",
       "    </tr>\n",
       "    <tr>\n",
       "      <th>2</th>\n",
       "      <td>344554.0</td>\n",
       "      <td>Victima</td>\n",
       "      <td>Femenino</td>\n",
       "      <td>Madre</td>\n",
       "      <td>Fisica y psicologica</td>\n",
       "      <td>NaN</td>\n",
       "      <td>NaN</td>\n",
       "      <td>Femenino</td>\n",
       "      <td>1</td>\n",
       "      <td>1</td>\n",
       "      <td>Masculino</td>\n",
       "      <td>Pareja</td>\n",
       "      <td>Llamante solicito informacion y/o orientacion</td>\n",
       "      <td>2017-01-01</td>\n",
       "      <td>06:48</td>\n",
       "      <td>Ciudad Autonoma de Buenos Aires</td>\n",
       "      <td>2</td>\n",
       "    </tr>\n",
       "    <tr>\n",
       "      <th>3</th>\n",
       "      <td>344555.0</td>\n",
       "      <td>Victima</td>\n",
       "      <td>Femenino</td>\n",
       "      <td>No hay ninas/os</td>\n",
       "      <td>Fisica y psicologica</td>\n",
       "      <td>NaN</td>\n",
       "      <td>NaN</td>\n",
       "      <td>Femenino</td>\n",
       "      <td>1</td>\n",
       "      <td>1</td>\n",
       "      <td>Masculino</td>\n",
       "      <td>Pareja</td>\n",
       "      <td>Llamante solicito informacion y/o orientacion</td>\n",
       "      <td>2017-01-01</td>\n",
       "      <td>06:54</td>\n",
       "      <td>Ciudad Autonoma de Buenos Aires</td>\n",
       "      <td>2</td>\n",
       "    </tr>\n",
       "    <tr>\n",
       "      <th>4</th>\n",
       "      <td>344556.0</td>\n",
       "      <td>Comisaria</td>\n",
       "      <td>Masculino</td>\n",
       "      <td>Otra/o no familiar</td>\n",
       "      <td>Psicologica</td>\n",
       "      <td>NaN</td>\n",
       "      <td>NaN</td>\n",
       "      <td>Masculino</td>\n",
       "      <td>1</td>\n",
       "      <td>1</td>\n",
       "      <td>Femenino</td>\n",
       "      <td>Madre</td>\n",
       "      <td>Llamante solicito informacion y/o orientacion</td>\n",
       "      <td>2017-01-01</td>\n",
       "      <td>07:11</td>\n",
       "      <td>Ciudad Autonoma de Buenos Aires</td>\n",
       "      <td>2</td>\n",
       "    </tr>\n",
       "  </tbody>\n",
       "</table>\n",
       "</div>"
      ],
      "text/plain": [
       "    caso_id llamante_descripcion llamante_genero  \\\n",
       "0  344552.0            Comisaria       Masculino   \n",
       "1  344553.0            Comisaria        Femenino   \n",
       "2  344554.0              Victima        Femenino   \n",
       "3  344555.0              Victima        Femenino   \n",
       "4  344556.0            Comisaria       Masculino   \n",
       "\n",
       "  llamante_vinculo_ninios_presentes        violencia_tipo victima_edad  \\\n",
       "0                Otra/o no familiar  Fisica y psicologica           27   \n",
       "1                                 s  Fisica y psicologica          NaN   \n",
       "2                             Madre  Fisica y psicologica          NaN   \n",
       "3                   No hay ninas/os  Fisica y psicologica          NaN   \n",
       "4                Otra/o no familiar           Psicologica          NaN   \n",
       "\n",
       "  victima_rango_etario victima_genero  victima_cantidad  agresor_cantidad  \\\n",
       "0         18 a 29 anos       Femenino                 3                 1   \n",
       "1                  NaN       Femenino                 2                 1   \n",
       "2                  NaN       Femenino                 1                 1   \n",
       "3                  NaN       Femenino                 1                 1   \n",
       "4                  NaN      Masculino                 1                 1   \n",
       "\n",
       "  agresor_genero agresor_relacion_victima  \\\n",
       "0      Masculino                   Pareja   \n",
       "1      Masculino                Hermano/a   \n",
       "2      Masculino                   Pareja   \n",
       "3      Masculino                   Pareja   \n",
       "4       Femenino                    Madre   \n",
       "\n",
       "                                  llamado_derivacion llamado_fecha  \\\n",
       "0  La victima no acepto la intervencion del Equip...    2017-01-01   \n",
       "1      Llamante solicito informacion y/o orientacion    2017-01-01   \n",
       "2      Llamante solicito informacion y/o orientacion    2017-01-01   \n",
       "3      Llamante solicito informacion y/o orientacion    2017-01-01   \n",
       "4      Llamante solicito informacion y/o orientacion    2017-01-01   \n",
       "\n",
       "  llamado_hora       llamado_atencion_provincia  llamado_atencion_provincia_id  \n",
       "0        01:37  Ciudad Autonoma de Buenos Aires                              2  \n",
       "1        06:42  Ciudad Autonoma de Buenos Aires                              2  \n",
       "2        06:48  Ciudad Autonoma de Buenos Aires                              2  \n",
       "3        06:54  Ciudad Autonoma de Buenos Aires                              2  \n",
       "4        07:11  Ciudad Autonoma de Buenos Aires                              2  "
      ]
     },
     "execution_count": 3,
     "metadata": {},
     "output_type": "execute_result"
    }
   ],
   "source": [
    "#Let's examine the first rows\n",
    "data = pd.read_csv(\"/kaggle/working/ViolenciaFamiliarReady.csv\")\n",
    "data.head()\n",
    "\n",
    "    "
   ]
  },
  {
   "cell_type": "code",
   "execution_count": 4,
   "id": "d3ebe2ae",
   "metadata": {
    "execution": {
     "iopub.execute_input": "2021-10-20T19:57:59.100622Z",
     "iopub.status.busy": "2021-10-20T19:57:59.095062Z",
     "iopub.status.idle": "2021-10-20T19:58:01.838221Z",
     "shell.execute_reply": "2021-10-20T19:58:01.837745Z",
     "shell.execute_reply.started": "2021-10-20T18:48:27.953138Z"
    },
    "papermill": {
     "duration": 2.768697,
     "end_time": "2021-10-20T19:58:01.838373",
     "exception": false,
     "start_time": "2021-10-20T19:57:59.069676",
     "status": "completed"
    },
    "tags": []
   },
   "outputs": [
    {
     "name": "stdout",
     "output_type": "stream",
     "text": [
      "{'Pareja': 21727, 'Hermano/a': 2415, 'Madre': 6508, 'Hijo/a': 3812, 'Ex pareja': 15419, 'NS/NC': 3483, 'Otro/a no conviviente': 1742, 'Padre': 5899, 'Otro/a conviviente': 1286, 'Abuelo/a': 268, 'Padrastro': 1099, 'Hermana/o': 40, 'Madrastra': 33}\n",
      "{'Femenino': 51901, 'Masculino': 7801, 'NS/NC': 3959, 'Transgenero': 70}\n"
     ]
    }
   ],
   "source": [
    "#I will create a dictionary with the ammount of victims per reation with the aggressor, and in the same FOR i will calculate vicrims per gender\n",
    "Aggresors = data.agresor_relacion_victima.unique()\n",
    "VictimsGender = data.victima_genero.unique()\n",
    "Q = lst = [0] * len(Aggresors)\n",
    "AgressorsVictim = dict(zip(Aggresors,Q))\n",
    "Q = lst = [0] * len(VictimsGender)\n",
    "VictimsGenderQ = dict(zip(VictimsGender,Q))\n",
    "for index,row in data.iterrows():\n",
    "    AgressorsVictim[row['agresor_relacion_victima']]= AgressorsVictim[row['agresor_relacion_victima']]+row['victima_cantidad']\n",
    "    VictimsGenderQ[row['victima_genero']]= VictimsGenderQ[row['victima_genero']]+row['victima_cantidad']\n",
    "print(AgressorsVictim)\n",
    "print(VictimsGenderQ)"
   ]
  },
  {
   "cell_type": "code",
   "execution_count": 5,
   "id": "a408d786",
   "metadata": {
    "execution": {
     "iopub.execute_input": "2021-10-20T19:58:01.893902Z",
     "iopub.status.busy": "2021-10-20T19:58:01.893190Z",
     "iopub.status.idle": "2021-10-20T19:58:02.156103Z",
     "shell.execute_reply": "2021-10-20T19:58:02.155078Z",
     "shell.execute_reply.started": "2021-10-20T18:48:31.482363Z"
    },
    "papermill": {
     "duration": 0.29979,
     "end_time": "2021-10-20T19:58:02.156260",
     "exception": false,
     "start_time": "2021-10-20T19:58:01.856470",
     "status": "completed"
    },
    "tags": []
   },
   "outputs": [
    {
     "data": {
      "image/png": "[encoded data removed]",
      "text/plain": [
       "<Figure size 432x288 with 1 Axes>"
      ]
     },
     "metadata": {
      "needs_background": "light"
     },
     "output_type": "display_data"
    }
   ],
   "source": [
    "#Let's plot the data about victim's relation with the aggressor\n",
    "fig = plt.figure()\n",
    "ax = fig.add_axes([0,0,1,1])\n",
    "ax.bar(AgressorsVictim.keys(),AgressorsVictim.values())\n",
    "plt.xticks(rotation=45)\n",
    "#fig.bar(AgressorsVictim.keys(),AgressorsVictim.values())\n",
    "fig.show()\n"
   ]
  },
  {
   "cell_type": "code",
   "execution_count": 6,
   "id": "f26858e0",
   "metadata": {
    "execution": {
     "iopub.execute_input": "2021-10-20T19:58:02.224648Z",
     "iopub.status.busy": "2021-10-20T19:58:02.223010Z",
     "iopub.status.idle": "2021-10-20T19:58:02.347478Z",
     "shell.execute_reply": "2021-10-20T19:58:02.348084Z",
     "shell.execute_reply.started": "2021-10-20T18:48:31.791516Z"
    },
    "papermill": {
     "duration": 0.174635,
     "end_time": "2021-10-20T19:58:02.348250",
     "exception": false,
     "start_time": "2021-10-20T19:58:02.173615",
     "status": "completed"
    },
    "tags": []
   },
   "outputs": [
    {
     "data": {
      "image/png": "[encoded data removed]",
      "text/plain": [
       "<Figure size 432x288 with 1 Axes>"
      ]
     },
     "metadata": {},
     "output_type": "display_data"
    }
   ],
   "source": [
    "#Let's plot the distribution of gender in victims\n",
    "\n",
    "labels = VictimsGenderQ.keys()\n",
    "values = VictimsGenderQ.values()\n",
    "fig1,ax1 = plt.subplots()\n",
    "ax1.pie(values,labels=labels, autopct='%1.1f%%',\n",
    "        shadow=True, startangle=90)\n",
    "ax1.axis('equal')\n",
    "\n",
    "#fig.bar(AgressorsVictim.keys(),AgressorsVictim.values())\n",
    "fig.show()"
   ]
  },
  {
   "cell_type": "code",
   "execution_count": 7,
   "id": "7b853963",
   "metadata": {
    "execution": {
     "iopub.execute_input": "2021-10-20T19:58:02.390063Z",
     "iopub.status.busy": "2021-10-20T19:58:02.389458Z",
     "iopub.status.idle": "2021-10-20T19:58:02.474663Z",
     "shell.execute_reply": "2021-10-20T19:58:02.475196Z",
     "shell.execute_reply.started": "2021-10-20T18:48:31.962445Z"
    },
    "papermill": {
     "duration": 0.108526,
     "end_time": "2021-10-20T19:58:02.475378",
     "exception": false,
     "start_time": "2021-10-20T19:58:02.366852",
     "status": "completed"
    },
    "tags": []
   },
   "outputs": [],
   "source": [
    "#First i will encode categorical data. Some values same copule and ex-couple will be count as one. \n",
    "#After that y will erase nas in relevant dimensions.\n",
    "CAT = {\"victima_genero\":     {\"Transgenero\": np.nan, \"NS/NC\": np.nan, \"Femenino\": 1,\"Masculino\": 2},\n",
    "                \"agresor_relacion_victima\": {'Pareja': 1, 'Hermano/a': np.nan, 'Madre': 2, 'Hijo/a': 3, 'Ex pareja': 1, 'NS/NC': np.nan, 'Otro/a no conviviente': np.nan, 'Padre': 4, 'Otro/a conviviente': np.nan, 'Abuelo/a': 5, 'Padrastro': 4, 'Hermana/o': 6, 'Madrastra': 2},\n",
    "                \"agresor_genero\": {\"Transgenero\": np.nan, \"NS/NC\": np.nan, \"Femenino\": 1,\"Masculino\": 2},\n",
    "                 \"victima_edad\": {\" \": np.nan}}\n",
    "data = data.replace(CAT)"
   ]
  },
  {
   "cell_type": "code",
   "execution_count": 8,
   "id": "d972d3f0",
   "metadata": {
    "execution": {
     "iopub.execute_input": "2021-10-20T19:58:02.514346Z",
     "iopub.status.busy": "2021-10-20T19:58:02.513693Z",
     "iopub.status.idle": "2021-10-20T19:58:04.117868Z",
     "shell.execute_reply": "2021-10-20T19:58:04.117373Z",
     "shell.execute_reply.started": "2021-10-20T18:48:32.106799Z"
    },
    "papermill": {
     "duration": 1.624572,
     "end_time": "2021-10-20T19:58:04.118010",
     "exception": false,
     "start_time": "2021-10-20T19:58:02.493438",
     "status": "completed"
    },
    "tags": []
   },
   "outputs": [
    {
     "data": {
      "text/plain": [
       "<AxesSubplot:>"
      ]
     },
     "execution_count": 8,
     "metadata": {},
     "output_type": "execute_result"
    },
    {
     "data": {
      "image/png": "[encoded data removed]",
      "text/plain": [
       "<Figure size 432x288 with 2 Axes>"
      ]
     },
     "metadata": {
      "needs_background": "light"
     },
     "output_type": "display_data"
    }
   ],
   "source": [
    "#lets analyze empty values with seaborn\n",
    "sns.heatmap(data.isnull(),cbar = 'false')"
   ]
  },
  {
   "cell_type": "code",
   "execution_count": 9,
   "id": "33dffabd",
   "metadata": {
    "execution": {
     "iopub.execute_input": "2021-10-20T19:58:04.162991Z",
     "iopub.status.busy": "2021-10-20T19:58:04.162293Z",
     "iopub.status.idle": "2021-10-20T19:58:04.185500Z",
     "shell.execute_reply": "2021-10-20T19:58:04.185917Z",
     "shell.execute_reply.started": "2021-10-20T18:48:33.757930Z"
    },
    "papermill": {
     "duration": 0.04858,
     "end_time": "2021-10-20T19:58:04.186088",
     "exception": false,
     "start_time": "2021-10-20T19:58:04.137508",
     "status": "completed"
    },
    "tags": []
   },
   "outputs": [
    {
     "name": "stdout",
     "output_type": "stream",
     "text": [
      "[1. 2.]\n"
     ]
    },
    {
     "data": {
      "text/plain": [
       "caso_id                              float64\n",
       "llamante_descripcion                  object\n",
       "llamante_genero                       object\n",
       "llamante_vinculo_ninios_presentes     object\n",
       "violencia_tipo                        object\n",
       "victima_edad                           int64\n",
       "victima_rango_etario                  object\n",
       "victima_genero                       float64\n",
       "victima_cantidad                       int64\n",
       "agresor_cantidad                       int64\n",
       "agresor_genero                       float64\n",
       "agresor_relacion_victima             float64\n",
       "llamado_derivacion                    object\n",
       "llamado_fecha                         object\n",
       "llamado_hora                          object\n",
       "llamado_atencion_provincia            object\n",
       "llamado_atencion_provincia_id          int64\n",
       "dtype: object"
      ]
     },
     "execution_count": 9,
     "metadata": {},
     "output_type": "execute_result"
    }
   ],
   "source": [
    "#Delete the Nan Values.\n",
    "data.dropna(subset=['agresor_relacion_victima','agresor_genero','victima_edad','victima_genero'], inplace=True)\n",
    "data['victima_edad'] = data['victima_edad'].astype(int)\n",
    "print(data.victima_genero.unique())\n",
    "data.dtypes"
   ]
  },
  {
   "cell_type": "code",
   "execution_count": 10,
   "id": "e0223500",
   "metadata": {
    "execution": {
     "iopub.execute_input": "2021-10-20T19:58:04.231535Z",
     "iopub.status.busy": "2021-10-20T19:58:04.230885Z",
     "iopub.status.idle": "2021-10-20T19:58:05.714885Z",
     "shell.execute_reply": "2021-10-20T19:58:05.715310Z",
     "shell.execute_reply.started": "2021-10-20T18:48:33.791039Z"
    },
    "papermill": {
     "duration": 1.509265,
     "end_time": "2021-10-20T19:58:05.715508",
     "exception": false,
     "start_time": "2021-10-20T19:58:04.206243",
     "status": "completed"
    },
    "tags": []
   },
   "outputs": [
    {
     "data": {
      "image/png": "[encoded data removed]",
      "text/plain": [
       "<Figure size 432x288 with 1 Axes>"
      ]
     },
     "metadata": {
      "needs_background": "light"
     },
     "output_type": "display_data"
    }
   ],
   "source": [
    "#Lets see the relatinship between the age of the victim and gender\n",
    "sns.countplot(x='victima_edad', data=data, palette='hls', hue='victima_genero')\n",
    "plt.xticks(rotation=45)\n",
    "plt.show()"
   ]
  },
  {
   "cell_type": "code",
   "execution_count": 11,
   "id": "f2788372",
   "metadata": {
    "execution": {
     "iopub.execute_input": "2021-10-20T19:58:05.764081Z",
     "iopub.status.busy": "2021-10-20T19:58:05.762999Z",
     "iopub.status.idle": "2021-10-20T19:58:06.034857Z",
     "shell.execute_reply": "2021-10-20T19:58:06.035313Z",
     "shell.execute_reply.started": "2021-10-20T18:48:35.548480Z"
    },
    "papermill": {
     "duration": 0.299394,
     "end_time": "2021-10-20T19:58:06.035515",
     "exception": false,
     "start_time": "2021-10-20T19:58:05.736121",
     "status": "completed"
    },
    "tags": []
   },
   "outputs": [
    {
     "name": "stdout",
     "output_type": "stream",
     "text": [
      "                          agresor_relacion_victima  agresor_genero  \\\n",
      "agresor_relacion_victima                  1.000000       -0.148307   \n",
      "agresor_genero                           -0.148307        1.000000   \n",
      "victima_edad                             -0.122965        0.132167   \n",
      "victima_genero                            0.292058       -0.341875   \n",
      "\n",
      "                          victima_edad  victima_genero  \n",
      "agresor_relacion_victima     -0.122965        0.292058  \n",
      "agresor_genero                0.132167       -0.341875  \n",
      "victima_edad                  1.000000       -0.172781  \n",
      "victima_genero               -0.172781        1.000000  \n"
     ]
    },
    {
     "data": {
      "image/png": "[encoded data removed]",
      "text/plain": [
       "<Figure size 432x288 with 2 Axes>"
      ]
     },
     "metadata": {
      "needs_background": "light"
     },
     "output_type": "display_data"
    }
   ],
   "source": [
    "\n",
    "corr = data[['agresor_relacion_victima','agresor_genero','victima_edad','victima_genero']].corr()\n",
    "sns.heatmap(corr, \n",
    "        xticklabels=['agresor_relacion_victima','agresor_genero','victima_edad','victima_genero'],\n",
    "        yticklabels=['agresor_relacion_victima','agresor_genero','victima_edad','victima_genero'])\n",
    "print(corr)"
   ]
  },
  {
   "cell_type": "code",
   "execution_count": 12,
   "id": "6608e998",
   "metadata": {
    "execution": {
     "iopub.execute_input": "2021-10-20T19:58:06.084976Z",
     "iopub.status.busy": "2021-10-20T19:58:06.084259Z",
     "iopub.status.idle": "2021-10-20T19:58:06.237510Z",
     "shell.execute_reply": "2021-10-20T19:58:06.238004Z",
     "shell.execute_reply.started": "2021-10-20T18:48:35.872696Z"
    },
    "papermill": {
     "duration": 0.180067,
     "end_time": "2021-10-20T19:58:06.238174",
     "exception": false,
     "start_time": "2021-10-20T19:58:06.058107",
     "status": "completed"
    },
    "tags": []
   },
   "outputs": [
    {
     "data": {
      "image/png": "[encoded data removed]",
      "text/plain": [
       "<Figure size 432x288 with 1 Axes>"
      ]
     },
     "metadata": {
      "needs_background": "light"
     },
     "output_type": "display_data"
    }
   ],
   "source": [
    "#Let's see relation of agressor gender and victims gender\n",
    "sns.countplot(x='agresor_genero', data=data, palette='hls', hue='victima_genero')\n",
    "plt.xticks(rotation=45)\n",
    "plt.show()"
   ]
  },
  {
   "cell_type": "code",
   "execution_count": 13,
   "id": "b443683c",
   "metadata": {
    "execution": {
     "iopub.execute_input": "2021-10-20T19:58:06.292066Z",
     "iopub.status.busy": "2021-10-20T19:58:06.290913Z",
     "iopub.status.idle": "2021-10-20T19:58:06.484464Z",
     "shell.execute_reply": "2021-10-20T19:58:06.483942Z",
     "shell.execute_reply.started": "2021-10-20T18:48:36.099123Z"
    },
    "papermill": {
     "duration": 0.222584,
     "end_time": "2021-10-20T19:58:06.484602",
     "exception": false,
     "start_time": "2021-10-20T19:58:06.262018",
     "status": "completed"
    },
    "tags": []
   },
   "outputs": [
    {
     "data": {
      "image/png": "[encoded data removed]",
      "text/plain": [
       "<Figure size 432x288 with 1 Axes>"
      ]
     },
     "metadata": {
      "needs_background": "light"
     },
     "output_type": "display_data"
    }
   ],
   "source": [
    "#Let's see relation of agressor relation and victims gender\n",
    "\n",
    "sns.countplot(x='agresor_relacion_victima', data=data, palette='hls', hue='victima_genero')\n",
    "plt.xticks(rotation=45)\n",
    "plt.show()"
   ]
  },
  {
   "cell_type": "code",
   "execution_count": 14,
   "id": "a8533b55",
   "metadata": {
    "execution": {
     "iopub.execute_input": "2021-10-20T19:58:06.535972Z",
     "iopub.status.busy": "2021-10-20T19:58:06.535346Z",
     "iopub.status.idle": "2021-10-20T19:58:06.705640Z",
     "shell.execute_reply": "2021-10-20T19:58:06.705103Z",
     "shell.execute_reply.started": "2021-10-20T18:48:36.363945Z"
    },
    "papermill": {
     "duration": 0.197562,
     "end_time": "2021-10-20T19:58:06.705793",
     "exception": false,
     "start_time": "2021-10-20T19:58:06.508231",
     "status": "completed"
    },
    "tags": []
   },
   "outputs": [],
   "source": [
    "#I will try to predict the victim's gender using the Age, the relationship with the victim, and gender of the agressor.\n",
    "#Lets try with different models\n",
    "from sklearn.svm import SVC, LinearSVC\n",
    "from sklearn.ensemble import RandomForestClassifier\n",
    "from sklearn.linear_model import LogisticRegression\n",
    "from sklearn.neighbors import KNeighborsClassifier\n",
    "from sklearn.naive_bayes import GaussianNB\n",
    "from sklearn.tree import DecisionTreeClassifier"
   ]
  },
  {
   "cell_type": "code",
   "execution_count": 15,
   "id": "4dbb0ab1",
   "metadata": {
    "execution": {
     "iopub.execute_input": "2021-10-20T19:58:06.755376Z",
     "iopub.status.busy": "2021-10-20T19:58:06.754771Z",
     "iopub.status.idle": "2021-10-20T19:58:06.757694Z",
     "shell.execute_reply": "2021-10-20T19:58:06.758170Z",
     "shell.execute_reply.started": "2021-10-20T18:48:36.571378Z"
    },
    "papermill": {
     "duration": 0.029178,
     "end_time": "2021-10-20T19:58:06.758323",
     "exception": false,
     "start_time": "2021-10-20T19:58:06.729145",
     "status": "completed"
    },
    "tags": []
   },
   "outputs": [],
   "source": [
    "#Import library to evaluate model\n",
    "from sklearn.metrics import make_scorer, accuracy_score "
   ]
  },
  {
   "cell_type": "code",
   "execution_count": 16,
   "id": "94db17c5",
   "metadata": {
    "execution": {
     "iopub.execute_input": "2021-10-20T19:58:06.806709Z",
     "iopub.status.busy": "2021-10-20T19:58:06.806107Z",
     "iopub.status.idle": "2021-10-20T19:58:06.814278Z",
     "shell.execute_reply": "2021-10-20T19:58:06.814820Z",
     "shell.execute_reply.started": "2021-10-20T18:48:36.577206Z"
    },
    "papermill": {
     "duration": 0.033922,
     "end_time": "2021-10-20T19:58:06.814984",
     "exception": false,
     "start_time": "2021-10-20T19:58:06.781062",
     "status": "completed"
    },
    "tags": []
   },
   "outputs": [],
   "source": [
    "#Let's get separated the training and the test sets\n",
    "from sklearn.model_selection import train_test_split\n",
    "X_training, X_valid, y_training, y_valid = train_test_split(data[['agresor_relacion_victima','agresor_genero','victima_edad']], \n",
    "                                                    data['victima_genero'], test_size=0.20, random_state=42)\n",
    "\n"
   ]
  },
  {
   "cell_type": "code",
   "execution_count": 17,
   "id": "34dad7f9",
   "metadata": {
    "execution": {
     "iopub.execute_input": "2021-10-20T19:58:06.865941Z",
     "iopub.status.busy": "2021-10-20T19:58:06.865276Z",
     "iopub.status.idle": "2021-10-20T19:58:11.814805Z",
     "shell.execute_reply": "2021-10-20T19:58:11.815277Z",
     "shell.execute_reply.started": "2021-10-20T18:48:36.596452Z"
    },
    "papermill": {
     "duration": 4.977609,
     "end_time": "2021-10-20T19:58:11.815482",
     "exception": false,
     "start_time": "2021-10-20T19:58:06.837873",
     "status": "completed"
    },
    "tags": []
   },
   "outputs": [
    {
     "name": "stdout",
     "output_type": "stream",
     "text": [
      "0.8699817518248175\n"
     ]
    }
   ],
   "source": [
    "#SVC Model\n",
    "svc_clf = SVC() \n",
    "svc_clf.fit(X_training, y_training)\n",
    "pred_svc = svc_clf.predict(X_valid)\n",
    "acc_svc = accuracy_score(y_valid, pred_svc)\n",
    "\n",
    "print(acc_svc)"
   ]
  },
  {
   "cell_type": "code",
   "execution_count": 18,
   "id": "35b164bb",
   "metadata": {
    "execution": {
     "iopub.execute_input": "2021-10-20T19:58:11.864289Z",
     "iopub.status.busy": "2021-10-20T19:58:11.863758Z",
     "iopub.status.idle": "2021-10-20T19:58:12.630563Z",
     "shell.execute_reply": "2021-10-20T19:58:12.629780Z",
     "shell.execute_reply.started": "2021-10-20T18:48:41.646774Z"
    },
    "papermill": {
     "duration": 0.792236,
     "end_time": "2021-10-20T19:58:12.630726",
     "exception": false,
     "start_time": "2021-10-20T19:58:11.838490",
     "status": "completed"
    },
    "tags": []
   },
   "outputs": [
    {
     "name": "stdout",
     "output_type": "stream",
     "text": [
      "0.8866332116788321\n"
     ]
    }
   ],
   "source": [
    "#Random Forest Classifier\n",
    "rf_clf = RandomForestClassifier()\n",
    "rf_clf.fit(X_training, y_training)\n",
    "pred_rf = rf_clf.predict(X_valid)\n",
    "acc_rf = accuracy_score(y_valid, pred_rf)\n",
    "\n",
    "print(acc_rf)"
   ]
  },
  {
   "cell_type": "code",
   "execution_count": 19,
   "id": "3979d7e8",
   "metadata": {
    "execution": {
     "iopub.execute_input": "2021-10-20T19:58:12.685651Z",
     "iopub.status.busy": "2021-10-20T19:58:12.682074Z",
     "iopub.status.idle": "2021-10-20T19:58:12.811547Z",
     "shell.execute_reply": "2021-10-20T19:58:12.813226Z",
     "shell.execute_reply.started": "2021-10-20T18:48:42.491298Z"
    },
    "papermill": {
     "duration": 0.158492,
     "end_time": "2021-10-20T19:58:12.813645",
     "exception": false,
     "start_time": "2021-10-20T19:58:12.655153",
     "status": "completed"
    },
    "tags": []
   },
   "outputs": [
    {
     "name": "stdout",
     "output_type": "stream",
     "text": [
      "0.8697536496350365\n"
     ]
    }
   ],
   "source": [
    "#Logistic Regression\n",
    "logreg_clf = LogisticRegression()\n",
    "logreg_clf.fit(X_training, y_training)\n",
    "pred_logreg = logreg_clf.predict(X_valid)\n",
    "acc_logreg = accuracy_score(y_valid, pred_logreg)\n",
    "\n",
    "print(acc_logreg)"
   ]
  },
  {
   "cell_type": "code",
   "execution_count": 20,
   "id": "51679f82",
   "metadata": {
    "execution": {
     "iopub.execute_input": "2021-10-20T19:58:12.917967Z",
     "iopub.status.busy": "2021-10-20T19:58:12.916948Z",
     "iopub.status.idle": "2021-10-20T19:58:13.083379Z",
     "shell.execute_reply": "2021-10-20T19:58:13.083979Z",
     "shell.execute_reply.started": "2021-10-20T18:48:42.626138Z"
    },
    "papermill": {
     "duration": 0.22307,
     "end_time": "2021-10-20T19:58:13.084155",
     "exception": false,
     "start_time": "2021-10-20T19:58:12.861085",
     "status": "completed"
    },
    "tags": []
   },
   "outputs": [
    {
     "name": "stdout",
     "output_type": "stream",
     "text": [
      "0.8813868613138686\n"
     ]
    }
   ],
   "source": [
    "#K Neigthbors clasifier\n",
    "knn_clf = KNeighborsClassifier()\n",
    "knn_clf.fit(X_training, y_training)\n",
    "pred_knn = knn_clf.predict(X_valid)\n",
    "acc_knn = accuracy_score(y_valid, pred_knn)\n",
    "\n",
    "print(acc_knn)"
   ]
  },
  {
   "cell_type": "code",
   "execution_count": 21,
   "id": "e7217356",
   "metadata": {
    "execution": {
     "iopub.execute_input": "2021-10-20T19:58:13.136646Z",
     "iopub.status.busy": "2021-10-20T19:58:13.135700Z",
     "iopub.status.idle": "2021-10-20T19:58:13.148576Z",
     "shell.execute_reply": "2021-10-20T19:58:13.149022Z",
     "shell.execute_reply.started": "2021-10-20T18:48:42.895607Z"
    },
    "papermill": {
     "duration": 0.040821,
     "end_time": "2021-10-20T19:58:13.149185",
     "exception": false,
     "start_time": "2021-10-20T19:58:13.108364",
     "status": "completed"
    },
    "tags": []
   },
   "outputs": [
    {
     "name": "stdout",
     "output_type": "stream",
     "text": [
      "0.8093065693430657\n"
     ]
    }
   ],
   "source": [
    "#Gauusian NB\n",
    "gnb_clf = GaussianNB()\n",
    "gnb_clf.fit(X_training, y_training)\n",
    "pred_gnb = gnb_clf.predict(X_valid)\n",
    "acc_gnb = accuracy_score(y_valid, pred_gnb)\n",
    "\n",
    "print(acc_gnb)"
   ]
  },
  {
   "cell_type": "code",
   "execution_count": 22,
   "id": "2adfb32d",
   "metadata": {
    "execution": {
     "iopub.execute_input": "2021-10-20T19:58:13.200931Z",
     "iopub.status.busy": "2021-10-20T19:58:13.199982Z",
     "iopub.status.idle": "2021-10-20T19:58:13.220282Z",
     "shell.execute_reply": "2021-10-20T19:58:13.219710Z",
     "shell.execute_reply.started": "2021-10-20T18:48:42.912889Z"
    },
    "papermill": {
     "duration": 0.047118,
     "end_time": "2021-10-20T19:58:13.220433",
     "exception": false,
     "start_time": "2021-10-20T19:58:13.173315",
     "status": "completed"
    },
    "tags": []
   },
   "outputs": [
    {
     "name": "stdout",
     "output_type": "stream",
     "text": [
      "0.885492700729927\n"
     ]
    }
   ],
   "source": [
    "#DecisionTreeClassifier\n",
    "dt_clf = DecisionTreeClassifier()\n",
    "dt_clf.fit(X_training, y_training)\n",
    "pred_dt = dt_clf.predict(X_valid)\n",
    "acc_dt = accuracy_score(y_valid, pred_dt)\n",
    "\n",
    "print(acc_dt)"
   ]
  },
  {
   "cell_type": "code",
   "execution_count": 23,
   "id": "bfec82a5",
   "metadata": {
    "execution": {
     "iopub.execute_input": "2021-10-20T19:58:13.276836Z",
     "iopub.status.busy": "2021-10-20T19:58:13.275839Z",
     "iopub.status.idle": "2021-10-20T20:08:43.965250Z",
     "shell.execute_reply": "2021-10-20T20:08:43.964773Z",
     "shell.execute_reply.started": "2021-10-20T18:51:24.483828Z"
    },
    "papermill": {
     "duration": 630.720532,
     "end_time": "2021-10-20T20:08:43.965386",
     "exception": false,
     "start_time": "2021-10-20T19:58:13.244854",
     "status": "completed"
    },
    "tags": []
   },
   "outputs": [
    {
     "name": "stdout",
     "output_type": "stream",
     "text": [
      "Our optimized Random Forest model is:\n"
     ]
    },
    {
     "data": {
      "text/plain": [
       "RandomForestClassifier(criterion='entropy', max_depth=10, min_samples_leaf=5,\n",
       "                       min_samples_split=10, n_estimators=10)"
      ]
     },
     "execution_count": 23,
     "metadata": {},
     "output_type": "execute_result"
    }
   ],
   "source": [
    "#In this case, Random Forest have the best prediction capacity.\n",
    "#Let's try to improve the parameters with parameter optimization.\n",
    "#Parameter tunning\n",
    "rf_clf = RandomForestClassifier()\n",
    "\n",
    "parameters = {\"n_estimators\": [4, 5, 6, 7, 8, 9, 10, 15], \n",
    "              \"criterion\": [\"gini\", \"entropy\"],\n",
    "              \"max_features\": [\"auto\", \"sqrt\", \"log2\"], \n",
    "              \"max_depth\": [2, 3, 5, 10], \n",
    "              \"min_samples_split\": [2, 3, 5, 10],\n",
    "              \"min_samples_leaf\": [1, 5, 8, 10]\n",
    "             }\n",
    "\n",
    "grid_cv = GridSearchCV(rf_clf, parameters, scoring = make_scorer(accuracy_score))\n",
    "grid_cv = grid_cv.fit(X_training, y_training)\n",
    "\n",
    "print(\"Our optimized Random Forest model is:\")\n",
    "grid_cv.best_estimator_\n"
   ]
  },
  {
   "cell_type": "code",
   "execution_count": 24,
   "id": "ff1ca96e",
   "metadata": {
    "execution": {
     "iopub.execute_input": "2021-10-20T20:08:44.019634Z",
     "iopub.status.busy": "2021-10-20T20:08:44.018717Z",
     "iopub.status.idle": "2021-10-20T20:08:44.105009Z",
     "shell.execute_reply": "2021-10-20T20:08:44.104486Z",
     "shell.execute_reply.started": "2021-10-20T19:04:23.574698Z"
    },
    "papermill": {
     "duration": 0.114859,
     "end_time": "2021-10-20T20:08:44.105154",
     "exception": false,
     "start_time": "2021-10-20T20:08:43.990295",
     "status": "completed"
    },
    "tags": []
   },
   "outputs": [
    {
     "name": "stdout",
     "output_type": "stream",
     "text": [
      "0.885492700729927\n"
     ]
    }
   ],
   "source": [
    "rf_clf = grid_cv.best_estimator_\n",
    "\n",
    "rf_clf.fit(X_training, y_training)\n",
    "pred_rtopt = rf_clf.predict(X_valid)\n",
    "acc_rtopt = accuracy_score(y_valid, pred_dt)\n",
    "\n",
    "print(acc_dt)"
   ]
  }
 ],
 "metadata": {
  "kernelspec": {
   "display_name": "Python 3",
   "language": "python",
   "name": "python3"
  },
  "language_info": {
   "codemirror_mode": {
    "name": "ipython",
    "version": 3
   },
   "file_extension": ".py",
   "mimetype": "text/x-python",
   "name": "python",
   "nbconvert_exporter": "python",
   "pygments_lexer": "ipython3",
   "version": "3.7.10"
  },
  "papermill": {
   "default_parameters": {},
   "duration": 654.9269,
   "end_time": "2021-10-20T20:08:45.345736",
   "environment_variables": {},
   "exception": null,
   "input_path": "__notebook__.ipynb",
   "output_path": "__notebook__.ipynb",
   "parameters": {},
   "start_time": "2021-10-20T19:57:50.418836",
   "version": "2.3.3"
  }
 },
 "nbformat": 4,
 "nbformat_minor": 5
}
